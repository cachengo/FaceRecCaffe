{
 "cells": [
  {
   "cell_type": "code",
   "execution_count": 1,
   "metadata": {
    "collapsed": false
   },
   "outputs": [],
   "source": [
    "import os\n",
    "\n",
    "import cv2\n",
    "import numpy as np\n",
    "\n",
    "import face_features\n",
    "\n",
    "feature_extractor = face_features.FaceFeatureExtractor()"
   ]
  },
  {
   "cell_type": "markdown",
   "metadata": {},
   "source": [
    "### Problem1: Finding the correct person using 1000 features will take forever\n",
    "Let's try getting features for tons of people to see if it is feasible to do some dimensionality reduction.\n",
    "\n",
    "### Problem2: We don't know at what distance it is safe to say these are the same people\n",
    "We can use a labeled dataset to figure out what is a safe distance.\n",
    "\n",
    "### Approach: Find a labeled dataset with a lot of different people\n",
    "This is what I'm using: http://vis-www.cs.umass.edu/lfw/#download\n",
    "\n",
    "### Let's go through every image and calculate its features\n",
    "Let's constantly dump it into a file just in case."
   ]
  },
  {
   "cell_type": "code",
   "execution_count": 2,
   "metadata": {
    "collapsed": false
   },
   "outputs": [
    {
     "data": {
      "text/plain": [
       "13233"
      ]
     },
     "execution_count": 2,
     "metadata": {},
     "output_type": "execute_result"
    }
   ],
   "source": [
    "# Load image.\n",
    "img_paths = []\n",
    "for dirpath, dirname, filenames in os.walk('./lfw'):\n",
    "    for filename in filenames:\n",
    "        if filename.endswith('.jpg'):\n",
    "            img_paths.append([filename, dirpath.split('/')[-1]])\n",
    "        else:\n",
    "            print(filename)\n",
    "img_paths = sorted(img_paths)\n",
    "len(img_paths)"
   ]
  },
  {
   "cell_type": "code",
   "execution_count": 3,
   "metadata": {
    "collapsed": false
   },
   "outputs": [
    {
     "name": "stdout",
     "output_type": "stream",
     "text": [
      " Error at 8493\n"
     ]
    }
   ],
   "source": [
    "for i, path in enumerate(img_paths):\n",
    "    try:\n",
    "        im = cv2.imread('./lfw/%s/%s' % (path[1], path[0]))\n",
    "        feat = feature_extractor.getFeatures(im)[0]\n",
    "        if i == 0:\n",
    "            features = np.array([feat])\n",
    "            labels = np.array([path[1]])\n",
    "        else:\n",
    "            features = np.concatenate((features, [feat]))\n",
    "            labels = np.concatenate((labels, [path[1]]))\n",
    "    except:\n",
    "        print(' Error at %s' % i)\n",
    "np.save('features.npy', features)\n",
    "np.save('labels.npy', labels)"
   ]
  },
  {
   "cell_type": "markdown",
   "metadata": {
    "collapsed": false
   },
   "source": [
    "### Let's check what is the cosine distance between a person and everybody else"
   ]
  },
  {
   "cell_type": "code",
   "execution_count": 4,
   "metadata": {
    "collapsed": true
   },
   "outputs": [],
   "source": [
    "from sklearn.metrics.pairwise import cosine_similarity\n",
    "import matplotlib.pyplot as plt"
   ]
  },
  {
   "cell_type": "code",
   "execution_count": 5,
   "metadata": {
    "collapsed": false
   },
   "outputs": [],
   "source": [
    "def show_image(im_num):\n",
    "    im = cv2.imread('./lfw/%s/%s' % (img_paths[im_num][1], img_paths[im_num][0]))\n",
    "    plt.imshow(im)"
   ]
  },
  {
   "cell_type": "code",
   "execution_count": 6,
   "metadata": {
    "collapsed": false
   },
   "outputs": [],
   "source": [
    "similarities = cosine_similarity(features)"
   ]
  },
  {
   "cell_type": "code",
   "execution_count": 8,
   "metadata": {
    "collapsed": false
   },
   "outputs": [],
   "source": [
    "# Let's go through all combinations storing distances separated by \n",
    "# whether these are the same people or not.\n",
    "same_people = []\n",
    "diff_people = []\n",
    "for i, distances in enumerate(similarities):\n",
    "    for j, distance in enumerate(distances):\n",
    "        if i == j:\n",
    "            break\n",
    "        if labels[i] == labels[j]:\n",
    "            same_people.append(distance)\n",
    "        else:\n",
    "            diff_people.append(distance)\n",
    "same_people = np.array(same_people)\n",
    "diff_people = np.array(diff_people)"
   ]
  },
  {
   "cell_type": "code",
   "execution_count": 9,
   "metadata": {
    "collapsed": false,
    "scrolled": true
   },
   "outputs": [
    {
     "data": {
      "image/png": "[encoded data removed]",
      "text/plain": [
       "<matplotlib.figure.Figure at 0x7f5b75b85630>"
      ]
     },
     "metadata": {},
     "output_type": "display_data"
    }
   ],
   "source": [
    "hist, bins = np.histogram(same_people, bins=100)\n",
    "width = 0.7 * (bins[1] - bins[0])\n",
    "center = (bins[:-1] + bins[1:]) / 2\n",
    "plt.bar(center, hist, align='center', width=width)\n",
    "plt.show()"
   ]
  },
  {
   "cell_type": "code",
   "execution_count": 10,
   "metadata": {
    "collapsed": false
   },
   "outputs": [
    {
     "data": {
      "image/png": "[encoded data removed]",
      "text/plain": [
       "<matplotlib.figure.Figure at 0x7f5b75b28470>"
      ]
     },
     "metadata": {},
     "output_type": "display_data"
    }
   ],
   "source": [
    "hist, bins = np.histogram(diff_people, bins=100)\n",
    "width = 0.7 * (bins[1] - bins[0])\n",
    "center = (bins[:-1] + bins[1:]) / 2\n",
    "plt.bar(center, hist, align='center', width=width)\n",
    "plt.show()"
   ]
  },
  {
   "cell_type": "code",
   "execution_count": 11,
   "metadata": {
    "collapsed": true
   },
   "outputs": [],
   "source": [
    "def benchmark_threshold(threshold, same_dists, diff_dists):\n",
    "    same = 100. * np.sum(same_dists > threshold)/len(same_dists)\n",
    "    diff = 100. * np.sum(diff_dists > threshold)/len(diff_dists)\n",
    "    print('%s%% of same faces identified correctly and %s%% of different face identified wrong' % (same, diff))"
   ]
  },
  {
   "cell_type": "code",
   "execution_count": 12,
   "metadata": {
    "collapsed": false
   },
   "outputs": [
    {
     "name": "stdout",
     "output_type": "stream",
     "text": [
      "50.40824582260088% of same faces identified correctly and 1.2355528510308378% of different face identified wrong\n"
     ]
    }
   ],
   "source": [
    "benchmark_threshold(.1, same_people, diff_people)"
   ]
  },
  {
   "cell_type": "code",
   "execution_count": 13,
   "metadata": {
    "collapsed": false
   },
   "outputs": [
    {
     "name": "stdout",
     "output_type": "stream",
     "text": [
      "70.4428373291064% of same faces identified correctly and 3.402103969526442% of different face identified wrong\n"
     ]
    }
   ],
   "source": [
    "benchmark_threshold(.05, same_people, diff_people)"
   ]
  },
  {
   "cell_type": "code",
   "execution_count": 44,
   "metadata": {
    "collapsed": false
   },
   "outputs": [
    {
     "data": {
      "text/plain": [
       "[array([4.8883416e-05, 5.2162200e-06, 1.7355617e-04, ..., 2.5648349e-06,\n",
       "        7.1046543e-06, 4.6974150e-05], dtype=float32),\n",
       " array([9.7766831e-05, 1.0432440e-05, 3.4711233e-04, ..., 5.1296697e-06,\n",
       "        1.4209309e-05, 9.3948300e-05], dtype=float32)]"
      ]
     },
     "execution_count": 44,
     "metadata": {},
     "output_type": "execute_result"
    }
   ],
   "source": [
    "a"
   ]
  },
  {
   "cell_type": "code",
   "execution_count": null,
   "metadata": {
    "collapsed": true
   },
   "outputs": [],
   "source": []
  }
 ],
 "metadata": {
  "kernelspec": {
   "display_name": "Python 3",
   "language": "python",
   "name": "python3"
  },
  "language_info": {
   "codemirror_mode": {
    "name": "ipython",
    "version": 3
   },
   "file_extension": ".py",
   "mimetype": "text/x-python",
   "name": "python",
   "nbconvert_exporter": "python",
   "pygments_lexer": "ipython3",
   "version": "3.6.3"
  }
 },
 "nbformat": 4,
 "nbformat_minor": 2
}
